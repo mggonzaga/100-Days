{
 "cells": [
  {
   "cell_type": "markdown",
   "metadata": {},
   "source": [
    "Exemplo funcao PRINT:\n",
    "Day 1 - aula 8"
   ]
  },
  {
   "cell_type": "code",
   "execution_count": 1,
   "metadata": {},
   "outputs": [
    {
     "name": "stdout",
     "output_type": "stream",
     "text": [
      "Hello World !\n"
     ]
    }
   ],
   "source": [
    "print(\"Hello World !\")"
   ]
  },
  {
   "cell_type": "markdown",
   "metadata": {},
   "source": [
    "Exemplo /n\n",
    "Quebra de linha\n",
    "Day 01 - aula 09"
   ]
  },
  {
   "cell_type": "code",
   "execution_count": 2,
   "metadata": {},
   "outputs": [
    {
     "name": "stdout",
     "output_type": "stream",
     "text": [
      "HELLO WORLD !\n",
      "Hello Novamente\n",
      "Hello de novo\n"
     ]
    }
   ],
   "source": [
    "print(\"HELLO WORLD !\\nHello Novamente\\nHello de novo\")"
   ]
  },
  {
   "cell_type": "code",
   "execution_count": 3,
   "metadata": {},
   "outputs": [
    {
     "name": "stdout",
     "output_type": "stream",
     "text": [
      "HelloMauricio\n",
      "Hello Mauricio\n",
      "Hello Mauricio\n",
      "Hello Mauricio\n"
     ]
    }
   ],
   "source": [
    "print(\"Hello\" + \"Mauricio\")\n",
    "print(\"Hello \" + \"Mauricio\")\n",
    "print(\"Hello\" + \" Mauricio\")\n",
    "print(\"Hello\" + \" \" + \"Mauricio\")\n"
   ]
  },
  {
   "cell_type": "markdown",
   "metadata": {},
   "source": [
    "Aulas 10 11 12\n",
    "Day 01"
   ]
  },
  {
   "cell_type": "code",
   "execution_count": 9,
   "metadata": {},
   "outputs": [
    {
     "name": "stdout",
     "output_type": "stream",
     "text": [
      "14\n"
     ]
    }
   ],
   "source": [
    "print(len(input(\"What is your name? \")))"
   ]
  },
  {
   "cell_type": "markdown",
   "metadata": {},
   "source": [
    "Aula 13\n",
    "Variaveis"
   ]
  },
  {
   "cell_type": "code",
   "execution_count": 14,
   "metadata": {},
   "outputs": [
    {
     "name": "stdout",
     "output_type": "stream",
     "text": [
      "mau\n"
     ]
    }
   ],
   "source": [
    "name = input(\"Qual o seu nome ?\")\n",
    "print(name)"
   ]
  },
  {
   "cell_type": "code",
   "execution_count": 16,
   "metadata": {},
   "outputs": [
    {
     "name": "stdout",
     "output_type": "stream",
     "text": [
      "lksjdlkajsdlkajsdkljasldkjaslkdjalksdjlkas\n",
      "42\n"
     ]
    }
   ],
   "source": [
    "name = input(\"Qual o seu nome ?\")\n",
    "lenght = len(name)\n",
    "print(name)\n",
    "print(lenght)\n"
   ]
  },
  {
   "cell_type": "markdown",
   "metadata": {},
   "source": [
    "Aula 14\n",
    "Day 01"
   ]
  },
  {
   "cell_type": "code",
   "execution_count": 22,
   "metadata": {},
   "outputs": [
    {
     "name": "stdout",
     "output_type": "stream",
     "text": [
      "a: 20\n",
      "b: 10\n"
     ]
    }
   ],
   "source": [
    "a = input(\"a: \")\n",
    "b = input(\"b: \")\n",
    "a1 = a\n",
    "a = b\n",
    "b = a1\n",
    "print(\"a: \" + a)\n",
    "print(\"b: \" + b)"
   ]
  }
 ],
 "metadata": {
  "kernelspec": {
   "display_name": "base",
   "language": "python",
   "name": "python3"
  },
  "language_info": {
   "codemirror_mode": {
    "name": "ipython",
    "version": 3
   },
   "file_extension": ".py",
   "mimetype": "text/x-python",
   "name": "python",
   "nbconvert_exporter": "python",
   "pygments_lexer": "ipython3",
   "version": "3.11.3"
  },
  "orig_nbformat": 4
 },
 "nbformat": 4,
 "nbformat_minor": 2
}
